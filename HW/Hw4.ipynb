{
 "cells": [
  {
   "cell_type": "code",
   "execution_count": 4,
   "metadata": {},
   "outputs": [],
   "source": [
    "import numpy as np\n",
    "import pandas as pd"
   ]
  },
  {
   "cell_type": "markdown",
   "metadata": {},
   "source": []
  },
  {
   "cell_type": "markdown",
   "metadata": {},
   "source": [
    "#### Homework: Evaluation and Monitoring\n",
    "In this homework, we'll evaluate the quality of our RAG system.\n",
    "> It's possible that your answers won't match exactly. If it's the case, select the closest one.\n",
    "Solution:\n",
    "* Video: TBA\n",
    "* Notebook: TBA\n",
    "\n",
    "#### Getting the data\n",
    "\n",
    "Let's start by getting the dataset. We will use the data we generated in the module.\n",
    "In particular, we'll evaluate the quality of our RAG system\n",
    "with [gpt-4o-mini](https://github.com/DataTalksClub/llm-zoomcamp/blob/main/04-monitoring/data/results-gpt4o-mini.csv)\n",
    "\n",
    "Read it:\n"
   ]
  },
  {
   "cell_type": "code",
   "execution_count": 1,
   "metadata": {},
   "outputs": [
    {
     "data": {
      "text/plain": [
       "'https://github.com/DataTalksClub/llm-zoomcamp/blob/main/04-monitoring/data/results-gpt4o-mini.csv?raw=1'"
      ]
     },
     "execution_count": 1,
     "metadata": {},
     "output_type": "execute_result"
    }
   ],
   "source": [
    "github_url=\"https://github.com/DataTalksClub/llm-zoomcamp/blob/main/04-monitoring/data/results-gpt4o-mini.csv\"\n",
    "url = f'{github_url}?raw=1'\n",
    "url"
   ]
  },
  {
   "cell_type": "code",
   "execution_count": 6,
   "metadata": {},
   "outputs": [],
   "source": [
    "df = pd.read_csv(url)\n",
    "#We will use only the first 300 documents:\n",
    "df = df.iloc[:300]\n",
    "# df"
   ]
  },
  {
   "cell_type": "markdown",
   "metadata": {},
   "source": [
    "\n",
    "#### Q1. Getting the embeddings model\n",
    "\n",
    "Now, get the embeddings model `multi-qa-mpnet-base-dot-v1` from\n",
    "[the Sentence Transformer library](https://www.sbert.net/docs/sentence_transformer/pretrained_models.html#model-overview)\n",
    "\n",
    "> Note: this is not the same model as in HW3\n"
   ]
  },
  {
   "cell_type": "code",
   "execution_count": 8,
   "metadata": {},
   "outputs": [
    {
     "data": {
      "application/vnd.jupyter.widget-view+json": {
       "model_id": "6a0666e0e2144f0aa276cd15f4af0b0f",
       "version_major": 2,
       "version_minor": 0
      },
      "text/plain": [
       "modules.json:   0%|          | 0.00/229 [00:00<?, ?B/s]"
      ]
     },
     "metadata": {},
     "output_type": "display_data"
    },
    {
     "data": {
      "application/vnd.jupyter.widget-view+json": {
       "model_id": "0f1374159b3745f8ba2fb026420689a0",
       "version_major": 2,
       "version_minor": 0
      },
      "text/plain": [
       "config_sentence_transformers.json:   0%|          | 0.00/212 [00:00<?, ?B/s]"
      ]
     },
     "metadata": {},
     "output_type": "display_data"
    },
    {
     "name": "stderr",
     "output_type": "stream",
     "text": [
      "You try to use a model that was created with version 3.0.0.dev0, however, your version is 2.7.0. This might cause unexpected behavior or errors. In that case, try to update to the latest version.\n",
      "\n",
      "\n",
      "\n"
     ]
    },
    {
     "data": {
      "application/vnd.jupyter.widget-view+json": {
       "model_id": "3f66627b43dc4fc88e13746cd73b29cc",
       "version_major": 2,
       "version_minor": 0
      },
      "text/plain": [
       "README.md:   0%|          | 0.00/8.71k [00:00<?, ?B/s]"
      ]
     },
     "metadata": {},
     "output_type": "display_data"
    },
    {
     "data": {
      "application/vnd.jupyter.widget-view+json": {
       "model_id": "14f010e2c8d043b58ca44eb15e215533",
       "version_major": 2,
       "version_minor": 0
      },
      "text/plain": [
       "sentence_bert_config.json:   0%|          | 0.00/53.0 [00:00<?, ?B/s]"
      ]
     },
     "metadata": {},
     "output_type": "display_data"
    },
    {
     "data": {
      "application/vnd.jupyter.widget-view+json": {
       "model_id": "dc4f06642b134d47a30909f59a8a0078",
       "version_major": 2,
       "version_minor": 0
      },
      "text/plain": [
       "config.json:   0%|          | 0.00/571 [00:00<?, ?B/s]"
      ]
     },
     "metadata": {},
     "output_type": "display_data"
    },
    {
     "data": {
      "application/vnd.jupyter.widget-view+json": {
       "model_id": "88eb7da59cb44228a2cc5cc5e04a3f25",
       "version_major": 2,
       "version_minor": 0
      },
      "text/plain": [
       "model.safetensors:   0%|          | 0.00/438M [00:00<?, ?B/s]"
      ]
     },
     "metadata": {},
     "output_type": "display_data"
    },
    {
     "data": {
      "application/vnd.jupyter.widget-view+json": {
       "model_id": "4c679aea87774550a4e0efe8f86901bb",
       "version_major": 2,
       "version_minor": 0
      },
      "text/plain": [
       "tokenizer_config.json:   0%|          | 0.00/363 [00:00<?, ?B/s]"
      ]
     },
     "metadata": {},
     "output_type": "display_data"
    },
    {
     "data": {
      "application/vnd.jupyter.widget-view+json": {
       "model_id": "a9090fa0e60d4123b0f93b060429ce9f",
       "version_major": 2,
       "version_minor": 0
      },
      "text/plain": [
       "vocab.txt:   0%|          | 0.00/232k [00:00<?, ?B/s]"
      ]
     },
     "metadata": {},
     "output_type": "display_data"
    },
    {
     "data": {
      "application/vnd.jupyter.widget-view+json": {
       "model_id": "e7a9d249ae564eaca570e3a70af13284",
       "version_major": 2,
       "version_minor": 0
      },
      "text/plain": [
       "tokenizer.json:   0%|          | 0.00/466k [00:00<?, ?B/s]"
      ]
     },
     "metadata": {},
     "output_type": "display_data"
    },
    {
     "data": {
      "application/vnd.jupyter.widget-view+json": {
       "model_id": "0ddc1082198f4595bc2e70da00dc354b",
       "version_major": 2,
       "version_minor": 0
      },
      "text/plain": [
       "special_tokens_map.json:   0%|          | 0.00/239 [00:00<?, ?B/s]"
      ]
     },
     "metadata": {},
     "output_type": "display_data"
    },
    {
     "data": {
      "application/vnd.jupyter.widget-view+json": {
       "model_id": "d0fb0642b6a9426da24991d22b1be548",
       "version_major": 2,
       "version_minor": 0
      },
      "text/plain": [
       "1_Pooling/config.json:   0%|          | 0.00/190 [00:00<?, ?B/s]"
      ]
     },
     "metadata": {},
     "output_type": "display_data"
    }
   ],
   "source": [
    "\n",
    "\n",
    "from sentence_transformers import SentenceTransformer\n",
    "\n",
    "model_name=\"multi-qa-mpnet-base-dot-v1\"\n",
    "embedding_model = SentenceTransformer(model_name)\n",
    "\n"
   ]
  },
  {
   "cell_type": "markdown",
   "metadata": {},
   "source": [
    "\n",
    "Create the embeddings for the first LLM answer:\n"
   ]
  },
  {
   "cell_type": "code",
   "execution_count": 9,
   "metadata": {},
   "outputs": [
    {
     "data": {
      "text/plain": [
       "'You can sign up for the course by visiting the course page at [http://mlzoomcamp.com/](http://mlzoomcamp.com/).'"
      ]
     },
     "execution_count": 9,
     "metadata": {},
     "output_type": "execute_result"
    }
   ],
   "source": [
    "answer_llm = df.iloc[0].answer_llm\n",
    "answer_llm"
   ]
  },
  {
   "cell_type": "code",
   "execution_count": 10,
   "metadata": {},
   "outputs": [
    {
     "data": {
      "text/plain": [
       "array([-4.22446728e-01, -2.24856287e-01, -3.24058354e-01, -2.84758508e-01,\n",
       "        7.25652836e-03,  1.01186298e-01,  1.03716642e-01, -1.89983487e-01,\n",
       "       -2.80596633e-02,  2.71589100e-01, -1.15337454e-01,  1.14666104e-01,\n",
       "       -8.49585757e-02,  3.32365394e-01,  5.52723408e-02, -2.22195745e-01,\n",
       "       -1.42540783e-01,  1.02519117e-01, -1.52333945e-01, -2.02912569e-01,\n",
       "        1.98424459e-02,  8.38147402e-02, -5.68632185e-01,  2.32843198e-02,\n",
       "       -1.67292699e-01, -2.39256889e-01, -8.05465952e-02,  2.57082619e-02,\n",
       "       -8.15464780e-02, -7.39288479e-02, -2.61550009e-01,  1.92576423e-02,\n",
       "        3.22909385e-01,  1.90357149e-01, -9.34726413e-05, -2.13165641e-01,\n",
       "        2.88940948e-02, -1.79529414e-02, -5.92758060e-02,  1.99918360e-01,\n",
       "       -4.75171655e-02,  1.71634123e-01, -2.45916974e-02, -9.38061401e-02,\n",
       "       -3.57002705e-01,  1.33263841e-01,  1.94045827e-01, -1.18530430e-01,\n",
       "        4.56915319e-01,  1.47728100e-01,  3.35945159e-01, -1.86959296e-01,\n",
       "        2.45954767e-01, -1.07774355e-01, -1.80859804e-01,  1.18171930e-01,\n",
       "        7.27294087e-02,  2.78034240e-01,  4.16388631e-01, -1.66038066e-01,\n",
       "       -1.28587395e-01,  3.40980142e-01, -5.31821437e-02,  2.86050085e-02,\n",
       "        2.70212471e-01,  1.59814116e-02,  5.30229211e-01, -4.24391836e-01,\n",
       "        4.41504605e-02,  1.12921521e-01,  5.93987465e-01,  1.31700680e-01,\n",
       "        7.96381850e-03, -9.32255760e-03,  2.07376853e-01,  9.57206860e-02,\n",
       "       -1.83128119e-01,  1.22415967e-01, -2.01750442e-01,  3.12428862e-01,\n",
       "       -5.54992482e-02, -2.87764817e-01, -1.73390627e-01,  1.55471087e-01,\n",
       "        1.19515732e-02,  3.49037081e-01, -8.38189349e-02, -1.50645286e-01,\n",
       "        5.33229709e-02, -1.06787831e-01,  1.13244630e-01,  3.14916432e-01,\n",
       "       -2.95604765e-03,  4.66762900e-01, -1.56012803e-01, -3.61533612e-01,\n",
       "        3.31572928e-02,  2.06268907e-01, -1.06713645e-01, -5.01036867e-02,\n",
       "        1.83970004e-01, -1.39953643e-02,  2.16501489e-01,  1.41000152e-01,\n",
       "        1.90431625e-01, -3.77753109e-01,  8.65841210e-02, -9.80312377e-02,\n",
       "        2.32716069e-01,  2.01483984e-02, -9.70339775e-02,  1.01333238e-01,\n",
       "       -1.72074988e-01, -1.49902344e-01, -2.79156595e-01,  4.38269138e-01,\n",
       "       -1.79244295e-01, -5.75872175e-02, -7.84661695e-02, -3.23518455e-01,\n",
       "       -2.88021535e-01,  1.18698537e-01,  8.74238238e-02,  2.05323547e-01,\n",
       "       -4.80110683e-02, -5.71200773e-02, -2.83933990e-02, -3.82451266e-02,\n",
       "       -2.26608172e-01, -6.20819889e-02, -8.28165784e-02,  3.57217282e-01,\n",
       "       -1.73984125e-01, -2.00290710e-01,  2.40433559e-01,  2.16891363e-01,\n",
       "       -6.78276494e-02,  1.77686214e-01, -7.99848884e-03,  2.68137515e-01,\n",
       "        1.61456332e-01,  3.94612193e-01,  8.85786861e-02,  2.40581170e-01,\n",
       "       -2.59250030e-03, -3.16258073e-01, -2.44214848e-01,  3.14837992e-01,\n",
       "       -1.19753301e-01,  2.73651481e-02, -1.63026422e-01, -1.62030868e-02,\n",
       "       -3.58391255e-02,  3.33115458e-01,  5.83249390e-01, -2.79057801e-01,\n",
       "        4.58128542e-01,  4.30684388e-01, -9.04698595e-02, -9.46643278e-02,\n",
       "       -4.69529107e-02,  1.82061672e-01,  1.93517655e-01, -5.74656054e-02,\n",
       "        5.64572141e-02,  6.01408109e-02, -2.71578461e-01,  3.31837684e-02,\n",
       "       -2.93490469e-01,  8.48191679e-02,  1.16654992e-01, -3.32131498e-02,\n",
       "       -9.28957090e-02,  8.89661610e-02,  4.50611487e-03, -1.12345040e-01,\n",
       "        2.86367238e-01, -4.58183259e-01,  2.24825829e-01, -1.59531415e-01,\n",
       "       -3.91896889e-02, -4.82418150e-01,  2.00284034e-01,  5.05794249e-02,\n",
       "       -7.37683699e-02, -2.89322995e-02,  5.19140139e-02,  2.53143758e-01,\n",
       "       -1.18403122e-01, -3.76235694e-05, -1.42510608e-03,  8.79561156e-02,\n",
       "       -1.54602617e-01,  1.39947489e-01, -1.63175002e-01, -2.27564931e-01,\n",
       "        2.43597329e-02,  1.83513492e-01,  2.09396422e-01,  6.44877926e-03,\n",
       "       -1.67488828e-01,  2.13646814e-01, -9.41734314e-02, -1.58162415e-02,\n",
       "       -8.20813254e-02, -1.83308691e-01,  2.60268301e-01, -5.81486702e-01,\n",
       "       -1.88393176e-01,  4.93148744e-01,  1.71536416e-01, -1.94944024e-01,\n",
       "       -2.98343413e-02, -1.10752203e-01,  1.75625995e-01, -2.15448707e-01,\n",
       "        3.90823573e-01, -4.05430794e-04,  1.63337767e-01, -1.30663902e-01,\n",
       "       -1.60531908e-01, -1.78250268e-01,  1.44646123e-01, -5.53424694e-02,\n",
       "       -2.84335226e-01, -2.52671182e-01, -2.86735266e-01,  7.28121251e-02,\n",
       "        1.01622820e-01,  2.40729541e-01,  2.70242989e-01, -2.02046275e-01,\n",
       "        3.18083555e-01,  2.44049758e-01, -1.42584249e-01,  8.29213038e-02,\n",
       "        4.85369526e-02,  2.96780795e-01,  4.12520170e-01, -3.14379066e-01,\n",
       "       -1.16969846e-01,  6.29205927e-02,  7.08075538e-02,  2.58253515e-01,\n",
       "       -1.14307925e-02,  4.45277274e-01,  1.21435925e-01, -1.32654309e-01,\n",
       "       -7.34768361e-02,  1.45819128e-01,  8.71954858e-02,  3.29195894e-02,\n",
       "       -1.06550358e-01,  1.32414475e-01,  5.37190773e-02,  1.55813277e-01,\n",
       "       -3.02493386e-02, -1.43763781e-01, -2.87022471e-01,  2.91071445e-01,\n",
       "        1.64530233e-01, -1.11769766e-01,  2.36827135e-01, -3.21419269e-01,\n",
       "       -1.66114479e-01, -1.28118070e-02,  3.42823058e-01, -1.29733980e-01,\n",
       "       -8.64381790e-02,  8.01280364e-02,  2.09743261e-01, -1.31370947e-01,\n",
       "       -4.56719667e-01, -2.07562372e-01,  2.11608410e-01, -1.06123060e-01,\n",
       "       -7.91287571e-02, -1.07585527e-01, -3.71915251e-01, -7.27090091e-02,\n",
       "       -1.18881032e-01, -8.83410722e-02, -1.14616361e-02, -1.38135716e-01,\n",
       "       -2.01837108e-01, -4.67055105e-02, -9.99323428e-02, -2.49767482e-01,\n",
       "        2.34003544e-01, -3.08610797e-01,  5.94545156e-02, -1.53505042e-01,\n",
       "        2.65017450e-01,  3.01958993e-03, -1.05429038e-01,  1.93159491e-01,\n",
       "        3.11240256e-01,  3.94329965e-01, -1.93250142e-02,  4.99086797e-01,\n",
       "        1.55236274e-02, -1.99357420e-01,  5.28417528e-04,  4.31942135e-01,\n",
       "        7.14856479e-03, -1.23075314e-01,  8.09214264e-03, -1.80046216e-01,\n",
       "        6.30249269e-03, -3.00482605e-02, -3.72297019e-01,  1.83589563e-01,\n",
       "        2.57175863e-01, -1.55412138e-01,  1.24235466e-01,  1.37525737e-01,\n",
       "       -1.35491252e-01,  3.29675041e-02, -9.26109031e-02, -5.65364897e-01,\n",
       "        2.80101206e-02, -2.07514521e-02, -1.69507384e-01, -2.20879659e-01,\n",
       "       -2.19279438e-01, -2.83492744e-01, -4.83236194e-01, -3.42599303e-01,\n",
       "       -9.17721242e-02,  2.96830356e-01, -5.98583370e-03,  6.14565462e-02,\n",
       "       -1.05392389e-01,  1.58028662e-01,  4.33737598e-02,  2.40767211e-01,\n",
       "       -3.02058786e-01, -2.03180626e-01,  3.31530213e-01, -3.77642363e-01,\n",
       "       -2.81263620e-01,  1.91836596e-01, -1.27187818e-01,  1.78842351e-01,\n",
       "       -2.64506578e-01,  1.23102441e-02, -1.61026612e-01,  1.34970143e-01,\n",
       "       -8.89986604e-02, -4.67515513e-02,  4.90023822e-01,  7.38463104e-02,\n",
       "       -1.30986482e-01, -3.05827022e-01, -1.67545602e-01,  1.94467753e-01,\n",
       "        1.63925290e-01,  1.95639253e-01,  2.50460207e-01, -4.28531349e-01,\n",
       "        3.45145538e-03, -2.58735836e-01,  5.29080749e-01, -3.74269694e-01,\n",
       "        1.52396381e-01, -1.04267478e-01,  5.28327823e-02,  6.97039887e-02,\n",
       "        3.10416251e-01,  1.34908587e-01, -1.46409497e-01,  8.79695490e-02,\n",
       "       -2.16057613e-01, -5.98214567e-03,  1.46351546e-01,  1.00754917e-01,\n",
       "       -3.56721967e-01,  2.37128496e-01, -2.08308548e-01, -1.37768120e-01,\n",
       "        1.87474832e-01, -1.37022018e-01,  1.79654539e-01,  9.50283110e-02,\n",
       "        3.05512846e-01, -2.35106889e-03, -5.99395856e-02,  3.43031377e-01,\n",
       "        2.22358927e-01,  3.86910290e-01, -4.61393856e-02, -5.23233533e-01,\n",
       "       -1.88939437e-01, -3.29894423e-02,  1.58315659e-01, -6.72143400e-02,\n",
       "        1.70431659e-01, -1.60779908e-01, -1.32888272e-01,  1.94981933e-01,\n",
       "       -7.49423876e-02,  1.33112818e-01, -3.46184447e-02, -3.98084149e-02,\n",
       "        1.55842736e-01,  7.61215612e-02,  6.12083152e-02,  1.30053759e-01,\n",
       "       -4.20598477e-01, -8.50358829e-02,  7.93773532e-02,  1.17576241e-01,\n",
       "        1.19343549e-02, -8.69110879e-03,  1.18011646e-01, -3.85569334e-01,\n",
       "       -1.99203894e-01,  3.17576259e-01,  6.12180345e-02, -1.49612099e-01,\n",
       "       -8.59779045e-02, -3.21715549e-02,  1.85915485e-01, -1.35080367e-01,\n",
       "        3.26779783e-01,  1.11499548e-01,  2.00124890e-01, -1.81170106e-01,\n",
       "        9.46165621e-03,  2.59241968e-01, -8.62892717e-02,  1.24217853e-01,\n",
       "       -2.26192027e-01,  1.87308356e-01, -6.76104426e-02,  1.09886430e-01,\n",
       "        7.81964436e-02,  1.59899205e-01,  4.34805863e-02,  3.77582282e-01,\n",
       "        2.00291611e-02,  3.12313259e-01,  3.17892075e-01,  3.18762921e-02,\n",
       "        1.84716955e-01,  1.02977067e-01, -1.29829720e-02, -5.33965707e-01,\n",
       "       -4.15443396e-03, -9.74934399e-02,  2.92787880e-01, -1.68571007e-02,\n",
       "       -3.65061164e-01,  2.62162745e-01, -1.99976161e-01, -1.79652318e-01,\n",
       "       -6.74350187e-02, -7.36471117e-02,  7.99704343e-03, -8.52290615e-02,\n",
       "        3.02015841e-01,  7.65381813e-01,  1.86538011e-01,  9.91607308e-02,\n",
       "       -3.15703936e-02, -2.39601627e-01,  3.49765599e-01, -3.79434228e-01,\n",
       "        4.37371433e-01, -3.03044677e-01,  3.50979343e-02, -1.36658847e-02,\n",
       "       -3.92120071e-02,  1.74251258e-01,  2.19216079e-01,  3.65046151e-02,\n",
       "        1.70673192e-01,  1.96939364e-01, -1.31071135e-01, -4.28891107e-02,\n",
       "        1.75453708e-01, -4.72445711e-02,  6.98639303e-02,  3.11691575e-02,\n",
       "        3.22514027e-01,  4.49008882e-01,  1.86776981e-01, -1.16196377e-02,\n",
       "       -1.47021472e-01, -2.00406268e-01,  7.67488331e-02, -1.27667755e-01,\n",
       "       -6.29128963e-02, -4.80403662e-01,  1.54105693e-01, -9.61350054e-02,\n",
       "       -2.31544688e-01,  3.21782008e-02, -2.23328382e-01, -9.49389488e-03,\n",
       "        1.23602569e-01, -1.67446554e-01,  2.84746289e-01,  1.42777227e-02,\n",
       "       -2.71190852e-01, -3.30283791e-01,  3.32764179e-01,  1.96248397e-01,\n",
       "       -2.55561262e-01,  1.17187150e-01,  4.77881312e-01, -4.56431247e-02,\n",
       "       -1.86917156e-01, -2.67586529e-01,  1.55057520e-01,  4.42822933e-01,\n",
       "        3.23592126e-01,  2.25058675e-01,  4.15322706e-02, -2.00825378e-01,\n",
       "        1.77915126e-01,  3.05669248e-01,  2.31600389e-01, -3.19247216e-01,\n",
       "       -1.18139170e-01,  1.34351939e-01,  2.80499279e-01, -2.21151128e-01,\n",
       "        5.30999750e-02,  1.29904151e-01,  6.53697252e-02, -1.18014365e-02,\n",
       "        6.73179775e-02,  8.00406635e-02, -5.13182700e-01, -5.82333989e-02,\n",
       "        6.54616877e-02,  2.76209116e-01, -1.83699727e-02,  2.94542521e-01,\n",
       "       -3.07798564e-01,  1.83834061e-01,  1.59030974e-01,  4.07141745e-01,\n",
       "       -1.66562468e-01, -4.79783177e-01, -2.10012764e-01, -4.13606167e-01,\n",
       "        5.92363477e-02,  1.54403806e-01,  6.58169389e-04,  2.10360914e-01,\n",
       "        2.83089578e-01,  3.63211900e-01,  1.09330826e-01, -5.22614717e-01,\n",
       "       -1.22006483e-01,  1.48910712e-02,  8.16332251e-02,  9.79118347e-02,\n",
       "       -1.71466380e-01, -1.19785801e-01,  3.07113856e-01,  2.41553873e-01,\n",
       "        1.07853301e-01, -1.99582815e-01, -3.44078898e-01, -6.04016855e-02,\n",
       "        5.21590263e-02,  3.28597054e-02, -3.27350292e-03,  1.36293724e-01,\n",
       "       -3.81063968e-02, -2.55616516e-01,  1.35476530e-01, -2.36675397e-01,\n",
       "       -4.05684769e-01,  2.38533765e-01,  4.29498740e-02,  1.72243044e-02,\n",
       "       -2.48771101e-01, -5.33274189e-02, -3.07872072e-02,  5.81808835e-02,\n",
       "       -1.23233348e-01,  2.18564142e-02,  2.29185939e-01,  9.34008434e-02,\n",
       "       -2.54486501e-01, -1.76821083e-01,  1.78003430e-01, -1.88910231e-01,\n",
       "       -2.32188672e-01,  1.38992548e-01,  8.63835067e-02,  1.66123345e-01,\n",
       "       -1.26168191e-01,  4.47001383e-02, -2.57222354e-03,  9.59319770e-02,\n",
       "        1.70473620e-01,  4.11361530e-02,  3.73511016e-01, -2.45751292e-01,\n",
       "        8.69028196e-02, -3.60793173e-01, -1.35020137e-01,  2.28721648e-01,\n",
       "        5.50211146e-02,  2.56112933e-01, -2.00421736e-02,  1.00338876e-01,\n",
       "        2.35084407e-02, -5.19270226e-02,  1.96858913e-01, -3.61602288e-04,\n",
       "        3.07785898e-01, -1.46380275e-01,  9.31807309e-02,  1.40383869e-01,\n",
       "        1.81080252e-02, -1.38114601e-01,  4.64577675e-02,  5.93973137e-02,\n",
       "        4.88919280e-02,  2.51312405e-01, -8.47728103e-02,  7.51709342e-02,\n",
       "        1.41398571e-02,  3.21199030e-01,  1.87377021e-01,  3.38847280e-01,\n",
       "        1.51104927e-01,  3.21048021e-01,  1.62717044e-01, -4.25226152e-01,\n",
       "       -3.60833734e-01,  4.96278405e-02,  1.51703089e-01, -2.27194220e-01,\n",
       "       -1.19753897e-01, -2.01474186e-02, -2.40545958e-01,  5.62720150e-02,\n",
       "        3.93154658e-02,  1.62902787e-01,  4.60219271e-02,  1.69599131e-01,\n",
       "       -1.60548076e-01, -2.60229409e-03, -9.23944563e-02, -4.32310492e-01,\n",
       "        9.29703563e-02,  3.15057218e-01,  1.51550807e-02,  4.36366275e-02,\n",
       "       -2.50602543e-01, -8.28457326e-02,  1.22859314e-01,  3.40396613e-02,\n",
       "        1.75262913e-01, -1.60563439e-01, -3.39263648e-01,  8.57212692e-02,\n",
       "        7.73878992e-02, -1.93213984e-01,  1.34666309e-01,  3.19189951e-03,\n",
       "        2.99942434e-01, -2.12174654e-02,  1.68446511e-01,  3.32506150e-01,\n",
       "       -2.90306985e-01, -2.65651084e-02,  1.57836124e-01, -1.45968080e-01,\n",
       "        1.02216810e-01, -3.66671205e-01, -1.05406806e-01,  8.61347094e-02,\n",
       "       -2.02301472e-01,  3.80774066e-02, -1.82998061e-01, -1.71337545e-01,\n",
       "       -1.67108148e-01, -4.81707990e-01, -3.76026519e-02, -2.37805516e-01,\n",
       "        1.88101396e-01, -5.88415451e-02,  5.97653985e-01,  2.54528582e-01,\n",
       "        3.43902633e-02,  3.61723900e-02, -3.01713347e-01, -3.13887000e-01,\n",
       "       -2.44423226e-02,  3.54957208e-02, -1.56709939e-01, -3.16900671e-01,\n",
       "        2.10858677e-02,  2.57124782e-01,  4.08265114e-01,  1.50323004e-01,\n",
       "       -6.00404385e-03, -1.62305668e-01,  3.02282304e-01, -2.29149491e-01,\n",
       "        1.85533479e-01,  9.38911214e-02,  4.12933081e-02, -1.50901094e-01,\n",
       "       -1.33867413e-01,  2.03006327e-01, -2.04596952e-01,  3.01504135e-01,\n",
       "        2.38587439e-01,  6.47757798e-02,  1.75633267e-01,  2.81314045e-01,\n",
       "        1.58511743e-01,  2.10824236e-03,  3.89198661e-01, -2.64083505e-01,\n",
       "       -2.38809258e-01,  2.06713349e-01,  1.16575658e-01, -1.77012697e-01,\n",
       "       -2.77637392e-02,  1.83658764e-01,  2.25406200e-01, -8.78799632e-02,\n",
       "       -1.43584445e-01,  2.10636482e-01,  1.69541374e-01, -5.84933907e-04,\n",
       "       -3.66570689e-02, -3.57494980e-01,  2.06114978e-01, -1.50764629e-01,\n",
       "       -8.18618536e-02,  3.86624560e-02,  1.66414902e-01,  1.40700117e-02,\n",
       "       -2.76515454e-01, -1.28965497e-01, -6.98805675e-02,  2.13923231e-01,\n",
       "       -2.81380504e-01, -3.66245285e-02, -1.43629208e-01,  6.90280199e-02,\n",
       "       -7.71774873e-02,  1.96927026e-01, -2.78328866e-01, -4.52037640e-02,\n",
       "       -1.19244590e-01, -3.84129465e-01,  8.88781101e-02,  4.29855466e-01,\n",
       "        2.08253428e-01, -3.37735027e-01, -2.85533547e-01,  9.70600545e-02,\n",
       "        2.04244316e-01, -6.10270202e-02, -1.66054517e-01, -2.67020404e-01],\n",
       "      dtype=float32)"
      ]
     },
     "execution_count": 10,
     "metadata": {},
     "output_type": "execute_result"
    }
   ],
   "source": [
    "embedding_model.encode(answer_llm)"
   ]
  },
  {
   "cell_type": "markdown",
   "metadata": {},
   "source": [
    "\n",
    "What's the first value of the resulting vector?\n",
    "\n",
    "* -0.42  (o)\n",
    "* -0.22\n",
    "* -0.02\n",
    "* 0.21\n"
   ]
  },
  {
   "cell_type": "markdown",
   "metadata": {},
   "source": [
    "\n",
    "\n",
    "## Q2. Computing the dot product\n",
    "\n",
    "\n",
    "Now for each answer pair, let's create embeddings and compute dot product between them\n",
    "\n",
    "We will put the results (scores) into the `evaluations` list\n",
    "\n",
    "What's the 75% percentile of the score?\n",
    "\n",
    "* 21.67\n",
    "* 31.67 (o)\n",
    "* 41.67\n",
    "* 51.67\n"
   ]
  },
  {
   "cell_type": "code",
   "execution_count": 13,
   "metadata": {},
   "outputs": [],
   "source": [
    "# a=df.iterrows()\n",
    "# next(a)"
   ]
  },
  {
   "cell_type": "code",
   "execution_count": 17,
   "metadata": {},
   "outputs": [
    {
     "data": {
      "text/plain": [
       "(3,\n",
       " answer_llm     The context does not provide any specific info...\n",
       " answer_orig    Machine Learning Zoomcamp FAQ\\nThe purpose of ...\n",
       " document                                                0227b872\n",
       " question       Does this course have a GitHub repository for ...\n",
       " course                                 machine-learning-zoomcamp\n",
       " Name: 3, dtype: object)"
      ]
     },
     "execution_count": 17,
     "metadata": {},
     "output_type": "execute_result"
    }
   ],
   "source": []
  },
  {
   "cell_type": "code",
   "execution_count": 19,
   "metadata": {},
   "outputs": [],
   "source": [
    "import numpy as np\n",
    "\n",
    "evaluations = []\n",
    "\n",
    "for _, row in df.iterrows():\n",
    "    # 為 LLM 答案和人工答案創建嵌入\n",
    "    embedding_llm = embedding_model.encode(row.answer_llm)\n",
    "    embedding_human = embedding_model.encode(row.answer_orig)\n",
    "    \n",
    "    # 計算點積\n",
    "    score = np.dot(embedding_llm, embedding_human)\n",
    "    \n",
    "    # 將結果添加到評估列表中\n",
    "    evaluations.append(score)"
   ]
  },
  {
   "cell_type": "code",
   "execution_count": 20,
   "metadata": {},
   "outputs": [
    {
     "name": "stdout",
     "output_type": "stream",
     "text": [
      "The 75th percentile of the score is: 31.674307346343994\n"
     ]
    }
   ],
   "source": [
    "percentile_75 = np.percentile(evaluations, 75)\n",
    "print(f\"The 75th percentile of the score is: {percentile_75}\")"
   ]
  },
  {
   "cell_type": "code",
   "execution_count": 22,
   "metadata": {},
   "outputs": [
    {
     "data": {
      "text/plain": [
       "13.418402"
      ]
     },
     "execution_count": 22,
     "metadata": {},
     "output_type": "execute_result"
    }
   ],
   "source": [
    "# evaluations[1]"
   ]
  },
  {
   "cell_type": "markdown",
   "metadata": {},
   "source": [
    "\n",
    "#### Q3. Computing the cosine\n",
    "\n",
    "From Q2, we can see that the results are not within the [0, 1] range. It's because the vectors coming from this model are not normalized.\n",
    "\n",
    "So we need to normalize them.\n",
    "\n",
    "To do it, we \n",
    "\n",
    "* Compute the norm of a vector\n",
    "* Divide each element by this norm\n",
    "\n",
    "So, for vector `v`, it'll be `v / ||v||`\n",
    "\n",
    "In numpy, this is how you do it:\n",
    "\n",
    "```python\n",
    "norm = np.sqrt((v * v).sum())\n",
    "v_norm = v / norm\n",
    "```\n",
    "\n",
    "Let's put it into a function and then compute dot product \n",
    "between normalized vectors. This will give us cosine similarity\n",
    "\n",
    "What's the 75% cosine in the scores?\n",
    "\n",
    "* 0.63\n",
    "* 0.73\n",
    "* 0.83  (o)\n",
    "* 0.93\n"
   ]
  },
  {
   "cell_type": "code",
   "execution_count": 23,
   "metadata": {},
   "outputs": [],
   "source": [
    "import numpy as np\n",
    "\n",
    "def normalize_vector(v):\n",
    "    norm = np.sqrt((v * v).sum())\n",
    "    return v / norm"
   ]
  },
  {
   "cell_type": "code",
   "execution_count": 24,
   "metadata": {},
   "outputs": [],
   "source": [
    "\n",
    "cosine_scores = []\n",
    "\n",
    "for _, row in df.iterrows():\n",
    "    # 為 LLM 答案和人工答案創建嵌入\n",
    "    embedding_llm = embedding_model.encode(row.answer_llm)\n",
    "    embedding_orig = embedding_model.encode(row.answer_orig)\n",
    "    normalized_llm=normalize_vector(embedding_llm)\n",
    "    normalized_orig=normalize_vector(embedding_orig)\n",
    "    \n",
    "    # 計算點積\n",
    "    score = np.dot(normalized_llm, normalized_orig)\n",
    "    \n",
    "    # 將結果添加到評估列表中\n",
    "    cosine_scores.append(score)"
   ]
  },
  {
   "cell_type": "code",
   "execution_count": 25,
   "metadata": {},
   "outputs": [
    {
     "name": "stdout",
     "output_type": "stream",
     "text": [
      "The 75th percentile of the cosine similarity scores is: 0.8362348228693008\n"
     ]
    }
   ],
   "source": [
    "percentile_75_cosine = np.percentile(cosine_scores, 75)\n",
    "print(f\"The 75th percentile of the cosine similarity scores is: {percentile_75_cosine}\")"
   ]
  },
  {
   "cell_type": "code",
   "execution_count": 26,
   "metadata": {},
   "outputs": [
    {
     "name": "stdout",
     "output_type": "stream",
     "text": [
      "Collecting rouge\n",
      "  Downloading rouge-1.0.1-py3-none-any.whl.metadata (4.1 kB)\n",
      "Requirement already satisfied: six in c:\\users\\wufen\\.conda\\envs\\fe\\lib\\site-packages (from rouge) (1.16.0)\n",
      "Downloading rouge-1.0.1-py3-none-any.whl (13 kB)\n",
      "Installing collected packages: rouge\n",
      "Successfully installed rouge-1.0.1\n"
     ]
    }
   ],
   "source": [
    "! pip install rouge\n"
   ]
  },
  {
   "cell_type": "markdown",
   "metadata": {},
   "source": [
    "\n",
    "#### Q4. Rouge\n",
    "\n",
    "Now we will explore an alternative metric - the ROUGE score.  \n",
    "\n",
    "This is a set of metrics that compares two answers based on the overlap of n-grams, word sequences, and word pairs.\n",
    "\n",
    "It can give a more nuanced view of text similarity than just cosine similarity alone.\n",
    "\n",
    "We don't need to implement it ourselves, there's a python package for it:\n",
    "\n",
    "```bash\n",
    "pip install rouge\n",
    "```\n",
    "\n",
    "(The latest version at the moment of writing is `1.0.1`)\n",
    "\n",
    "Let's compute the ROUGE score between the answers at the index 10 of our dataframe (`doc_id=5170565b`)\n",
    "\n",
    "```\n",
    "from rouge import Rouge\n",
    "rouge_scorer = Rouge()\n",
    "\n",
    "scores = rouge_scorer.get_scores(r['answer_llm'], r['answer_orig'])[0]\n",
    "```\n",
    "\n",
    "There are three scores: `rouge-1`, `rouge-2` and `rouge-l`, and precision, recall and F1 score for each.\n",
    "\n",
    "* `rouge-1` - the overlap of unigrams,\n",
    "* `rouge-2` - bigrams,\n",
    "* `rouge-l` - the longest common subsequence\n",
    "\n",
    "What's the F score for `rouge-1`?\n",
    "\n",
    "- 0.35\n",
    "- 0.45 (o)\n",
    "- 0.55\n",
    "- 0.65\n"
   ]
  },
  {
   "cell_type": "code",
   "execution_count": 28,
   "metadata": {},
   "outputs": [
    {
     "data": {
      "text/plain": [
       "answer_llm     Yes, all sessions are recorded, so if you miss...\n",
       "answer_orig    Everything is recorded, so you won’t miss anyt...\n",
       "document                                                5170565b\n",
       "question                    Are sessions recorded if I miss one?\n",
       "course                                 machine-learning-zoomcamp\n",
       "Name: 10, dtype: object"
      ]
     },
     "execution_count": 28,
     "metadata": {},
     "output_type": "execute_result"
    }
   ],
   "source": [
    "from rouge import Rouge\n",
    "rouge_scorer = Rouge()\n",
    "r = df.iloc[10]\n",
    "r"
   ]
  },
  {
   "cell_type": "code",
   "execution_count": 29,
   "metadata": {},
   "outputs": [],
   "source": [
    "\n",
    "scores = rouge_scorer.get_scores(r['answer_llm'], r['answer_orig'])[0]"
   ]
  },
  {
   "cell_type": "code",
   "execution_count": 30,
   "metadata": {},
   "outputs": [
    {
     "data": {
      "text/plain": [
       "{'rouge-1': {'r': 0.45454545454545453,\n",
       "  'p': 0.45454545454545453,\n",
       "  'f': 0.45454544954545456},\n",
       " 'rouge-2': {'r': 0.21621621621621623,\n",
       "  'p': 0.21621621621621623,\n",
       "  'f': 0.21621621121621637},\n",
       " 'rouge-l': {'r': 0.3939393939393939,\n",
       "  'p': 0.3939393939393939,\n",
       "  'f': 0.393939388939394}}"
      ]
     },
     "execution_count": 30,
     "metadata": {},
     "output_type": "execute_result"
    }
   ],
   "source": [
    "scores"
   ]
  },
  {
   "cell_type": "code",
   "execution_count": 31,
   "metadata": {},
   "outputs": [
    {
     "name": "stdout",
     "output_type": "stream",
     "text": [
      "The F1 score for rouge-1 is: 0.45454544954545456\n"
     ]
    }
   ],
   "source": [
    "rouge_1_f1 = scores['rouge-1']['f']\n",
    "print(f\"The F1 score for rouge-1 is: {rouge_1_f1}\")"
   ]
  },
  {
   "cell_type": "markdown",
   "metadata": {},
   "source": [
    "\n",
    "#### Q5. Average rouge score\n",
    "\n",
    "Let's compute the average F-score between `rouge-1`, `rouge-2` and `rouge-l` for the same record from Q4\n",
    "\n",
    "- 0.35 (o)\n",
    "- 0.45\n",
    "- 0.55\n",
    "- 0.65\n",
    "\n"
   ]
  },
  {
   "cell_type": "code",
   "execution_count": 32,
   "metadata": {},
   "outputs": [
    {
     "name": "stdout",
     "output_type": "stream",
     "text": [
      "The average F1 score between rouge-1, rouge-2, and rouge-l is: 0.35490034990035496\n"
     ]
    }
   ],
   "source": [
    "\n",
    "rouge_1_f1 = scores['rouge-1']['f']\n",
    "rouge_2_f1 = scores['rouge-2']['f']\n",
    "rouge_l_f1 = scores['rouge-l']['f']\n",
    "\n",
    "average_f1 = (rouge_1_f1 + rouge_2_f1 + rouge_l_f1) / 3\n",
    "print(f\"The average F1 score between rouge-1, rouge-2, and rouge-l is: {average_f1}\")"
   ]
  },
  {
   "cell_type": "markdown",
   "metadata": {},
   "source": [
    "\n",
    "#### Q6. Average rouge score for all the data points\n",
    "\n",
    "Now let's compute the score for all the records and create a dataframe from them.\n",
    "\n",
    "What's the average `rouge_2` across all the records?\n",
    "\n",
    "- 0.10\n",
    "- 0.20 (o)\n",
    "- 0.30\n",
    "- 0.40\n",
    "\n"
   ]
  },
  {
   "cell_type": "code",
   "execution_count": 35,
   "metadata": {},
   "outputs": [],
   "source": [
    "scores_list = [rouge_scorer.get_scores(r['answer_llm'], r['answer_orig'])[0] for _,r in df.iterrows()] "
   ]
  },
  {
   "cell_type": "code",
   "execution_count": 38,
   "metadata": {},
   "outputs": [
    {
     "name": "stdout",
     "output_type": "stream",
     "text": [
      "{'r': 0.017543859649122806, 'p': 0.07142857142857142, 'f': 0.028169010918468917}\n"
     ]
    }
   ],
   "source": [
    "scores_df = pd.DataFrame(scores_list)\n",
    "for _ in scores_df[:1]['rouge-2']:\n",
    "    print(_)\n",
    "\n"
   ]
  },
  {
   "cell_type": "code",
   "execution_count": 39,
   "metadata": {},
   "outputs": [
    {
     "name": "stdout",
     "output_type": "stream",
     "text": [
      "The average rouge-2 score across all records is: 0.20696501983423318\n"
     ]
    }
   ],
   "source": [
    "average_rouge_2 = scores_df['rouge-2'].apply(lambda x: x['f']).mean()\n",
    "\n",
    "print(f\"The average rouge-2 score across all records is: {average_rouge_2}\")"
   ]
  },
  {
   "cell_type": "markdown",
   "metadata": {},
   "source": [
    "\n",
    "\n",
    "#### Submit the results\n",
    "\n",
    "* Submit your results here: https://courses.datatalks.club/llm-zoomcamp-2024/homework/hw4\n",
    "* It's possible that your answers won't match exactly. If it's the case, select the closest one."
   ]
  },
  {
   "cell_type": "markdown",
   "metadata": {},
   "source": []
  }
 ],
 "metadata": {
  "kernelspec": {
   "display_name": "fe",
   "language": "python",
   "name": "python3"
  },
  "language_info": {
   "codemirror_mode": {
    "name": "ipython",
    "version": 3
   },
   "file_extension": ".py",
   "mimetype": "text/x-python",
   "name": "python",
   "nbconvert_exporter": "python",
   "pygments_lexer": "ipython3",
   "version": "3.12.2"
  }
 },
 "nbformat": 4,
 "nbformat_minor": 2
}
